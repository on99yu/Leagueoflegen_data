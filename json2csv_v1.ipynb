{
 "cells": [
  {
   "cell_type": "code",
   "execution_count": null,
   "metadata": {
    "vscode": {
     "languageId": "plaintext"
    }
   },
   "outputs": [],
   "source": [
    "import os\n",
    "import json\n",
    "import pandas as pd\n",
    "import numpy as np\n",
    "from tqdm.notebook import tqdm\n"
   ]
  },
  {
   "cell_type": "code",
   "execution_count": null,
   "metadata": {
    "vscode": {
     "languageId": "plaintext"
    }
   },
   "outputs": [],
   "source": [
    "def event_counter(data_frames, at_time):\n",
    "    # team 100(blue)\n",
    "    team_100_events = {\n",
    "        'CHAMPION_KILL': 0, # int\n",
    "        'CHAMPION_KILL_ASSIST' : 0, # int\n",
    "        'BUILDING_KILL': 0, # int\n",
    "        'HORDE_KILL' : 0, # int\n",
    "        'RIFTHERALD_KILL' : 0, # bool\n",
    "        'DRAGON_KILL' : 0, # int\n",
    "        'ElDER_DRAGON_KILL' : 0, # bool\n",
    "        'BARON_NASHOR_KILL' : 0, # bool\n",
    "        'WARD_PLACED': 0, # int\n",
    "        'WARD_KILL': 0, # int\n",
    "        'TURRET_PLATE_DESTROYED' : 0, # int\n",
    "    }\n",
    "    # team 200(red)\n",
    "    team_200_events = {\n",
    "        'CHAMPION_KILL': 0, # int \n",
    "        'CHAMPION_KILL_ASSIST' : 0, # int \n",
    "        'BUILDING_KILL': 0, # int\n",
    "        'HORDE_KILL' : 0, # int\n",
    "        'RIFTHERALD_KILL' : 0, # int\n",
    "        'DRAGON_KILL' : 0, # int\n",
    "        'ElDER_DRAGON_KILL' : 0, # bool\n",
    "        'BARON_NASHOR_KILL' : 0, # bool\n",
    "        'WARD_PLACED': 0, # int\n",
    "        'WARD_KILL': 0, # int\n",
    "        'TURRET_PLATE_DESTROYED' : 0, # int\n",
    "    }\n",
    "    winning_team = None\n",
    "    \n",
    "    for event in data_frames[-1]['events']:\n",
    "        # game end\n",
    "        if event['type'] == 'GAME_END':\n",
    "            winning_team = event['winningTeam']\n",
    "\n",
    "    # 특정 시간까지 주요 이벤트 카운트\n",
    "    for data_frame in data_frames[:at_time]:\n",
    "        for event in data_frame['events']:\n",
    "            # champion kill\n",
    "            if event['type'] == 'CHAMPION_KILL':\n",
    "                # killer\n",
    "                if event['killerId'] in [1,2,3,4,5]:\n",
    "                    team_100_events['CHAMPION_KILL'] += 1\n",
    "                    if \"assistingParticipantIds\" in event.keys():\n",
    "                        team_100_events['CHAMPION_KILL_ASSIST'] += len(event[\"assistingParticipantIds\"])\n",
    "                elif event['killerId'] in [6,7,8,9,10]:\n",
    "                    team_200_events['CHAMPION_KILL'] += 1\n",
    "                    if \"assistingParticipantIds\" in event.keys():\n",
    "                        team_200_events['CHAMPION_KILL_ASSIST'] += len(event[\"assistingParticipantIds\"])\n",
    "            elif event['type'] == 'BUILDING_KILL':\n",
    "                if event['teamId'] == 100:\n",
    "                    team_200_events['BUILDING_KILL'] += 1\n",
    "                elif event['teamId'] == 200:\n",
    "                    team_100_events['BUILDING_KILL'] += 1\n",
    "            elif event['type'] == 'WARD_PLACED':\n",
    "                if event['creatorId'] in [1,2,3,4,5]:\n",
    "                    team_100_events['WARD_PLACED'] += 1\n",
    "                elif event['creatorId'] in [6,7,8,9,10]:\n",
    "                    team_200_events['WARD_PLACED'] += 1\n",
    "            elif event['type'] == 'WARD_KILL':\n",
    "                if event['killerId'] in [1,2,3,4,5]:\n",
    "                    team_100_events['WARD_KILL'] += 1\n",
    "                elif event['killerId'] in [6,7,8,9,10]:\n",
    "                    team_200_events['WARD_KILL'] += 1\n",
    "            elif event['type'] == 'TURRET_PLATE_DESTROYED':\n",
    "                if event['teamId'] == 100:\n",
    "                    team_200_events['TURRET_PLATE_DESTROYED'] += 1\n",
    "                elif event['teamId'] == 200:\n",
    "                    team_100_events['TURRET_PLATE_DESTROYED'] += 1\n",
    "            elif event['type'] == 'ELITE_MONSTER_KILL':\n",
    "                if event['killerId'] in [1,2,3,4,5]:\n",
    "                    # 용\n",
    "                    if event['monsterType'] == 'DRAGON':\n",
    "                        team_100_events['DRAGON_KILL'] += 1\n",
    "                    # 공허유충\n",
    "                    elif event['monsterType'] == 'HORDE':\n",
    "                        team_100_events['HORDE_KILL'] += 1\n",
    "                    # 전령\n",
    "                    elif event['monsterType'] == 'RIFTHERALD':\n",
    "                        team_100_events['RIFTHERALD_KILL'] = 1\n",
    "                    # 내셔남작\n",
    "                    elif event['monsterType'] == 'BARON_NASHOR':\n",
    "                        team_100_events['BARON_NASHOR_KILL'] += 1\n",
    "                    # 장로\n",
    "                    elif event['monsterType'] == 'ELDER_DRAGON':\n",
    "                        team_100_events['ELDER_DRAGON_KILL'] += 1\n",
    "                elif event['killerId'] in [6,7,8,9,10]:\n",
    "                    # 용\n",
    "                    if event['monsterType'] == 'DRAGON':\n",
    "                        team_200_events['DRAGON_KILL'] += 1\n",
    "                    # 공허유충\n",
    "                    elif event['monsterType'] == 'HORDE':\n",
    "                        team_200_events['HORDE_KILL'] += 1\n",
    "                    # 전령\n",
    "                    elif event['monsterType'] == 'RIFTHERALD':\n",
    "                        team_200_events['RIFTHERALD_KILL'] = 1\n",
    "                    # 내셔남작\n",
    "                    elif event['monsterType'] == 'BARON_NASHOR':\n",
    "                        team_200_events['BARON_NASHOR_KILL'] += 1\n",
    "                    # 장로\n",
    "                    elif event['monsterType'] == 'ELDER_DRAGON':\n",
    "                        team_200_events['ELDER_DRAGON_KILL'] += 1\n",
    "    return (team_100_events, team_200_events, winning_team)"
   ]
  },
  {
   "cell_type": "code",
   "execution_count": null,
   "metadata": {
    "vscode": {
     "languageId": "plaintext"
    }
   },
   "outputs": [],
   "source": [
    "# team numierics integration\n",
    "def numeric_integration(data_frames, at_time):\n",
    "    team_100_numeric = {\n",
    "        'totalGold': 0,\n",
    "        'ToChampDamage': 0,\n",
    "        'DamageTaken': 0,\n",
    "        'sum_of_level': 0,\n",
    "    }\n",
    "    team_200_numeric = {\n",
    "        'totalGold': 0,\n",
    "        'ToChampDamage': 0,\n",
    "        'DamageTaken': 0,\n",
    "        'sum_of_level': 0,\n",
    "    }\n",
    "    # data_frames[at_time]\n",
    "    for participant in data_frames[at_time]['participantFrames'].keys():\n",
    "        if int(participant) in [1,2,3,4,5]:\n",
    "            team_100_numeric['totalGold'] += data_frames[at_time]['participantFrames'][participant]['totalGold']\n",
    "            team_100_numeric['ToChampDamage'] += data_frames[at_time]['participantFrames'][participant]['damageStats']['totalDamageDoneToChampions']\n",
    "            team_100_numeric['DamageTaken'] += data_frames[at_time]['participantFrames'][participant]['damageStats']['totalDamageTaken']\n",
    "            team_100_numeric['sum_of_level'] += data_frames[at_time]['participantFrames'][participant]['level']\n",
    "        elif int(participant) in [6,7,8,9,10]:\n",
    "            team_200_numeric['totalGold'] += data_frames[at_time]['participantFrames'][participant]['totalGold']\n",
    "            team_200_numeric['ToChampDamage'] += data_frames[at_time]['participantFrames'][participant]['damageStats']['totalDamageDoneToChampions']\n",
    "            team_200_numeric['DamageTaken'] += data_frames[at_time]['participantFrames'][participant]['damageStats']['totalDamageTaken']\n",
    "            team_200_numeric['sum_of_level'] += data_frames[at_time]['participantFrames'][participant]['level']\n",
    "\n",
    "    return (team_100_numeric, team_200_numeric)\n",
    "#    data_frame[10]['participantFrames']['1']['totalGold']\n",
    "#data_frame[10]['participantFrames']['1'].keys()\n",
    "#data_core['frames'][10]['participantFrames']['1']['damageStats'].keys()\n",
    "\n",
    "# 'totalDamageDone', 'totalDamageDoneToChampions', 'totalDamageTaken', 'sum_of_level'"
   ]
  },
  {
   "cell_type": "code",
   "execution_count": null,
   "metadata": {
    "vscode": {
     "languageId": "plaintext"
    }
   },
   "outputs": [],
   "source": [
    "# data dir\n",
    "json_dir = './data/match_timeline/'\n",
    "json_files = os.listdir(json_dir)\n",
    "\n",
    "len(json_files)"
   ]
  },
  {
   "cell_type": "code",
   "execution_count": null,
   "metadata": {
    "vscode": {
     "languageId": "plaintext"
    }
   },
   "outputs": [],
   "source": [
    "# constants\n",
    "data_length_list = [8,10,15,20,25]\n",
    "\n",
    "# inverse for loop\n",
    "for data_length in data_length_list[::-1]:\n",
    "    print(data_length)\n",
    "    data_list = []\n",
    "    for json_file in tqdm(json_files):\n",
    "        with open(json_dir + json_file) as f:\n",
    "            data = json.load(f)\n",
    "        match_id = data['metadata']['matchId']\n",
    "        gameLength = len(data['info']['frames'])-2\n",
    "\n",
    "        # delete abnormal data\n",
    "        if gameLength >= data_length:\n",
    "            data_frames = data['info']['frames']\n",
    "            t100_events, t200_events, winning_team = event_counter(data_frames, data_length)\n",
    "            t100_numerics, t200_numerics = numeric_integration(data_frames, data_length)\n",
    "            # stack data\n",
    "            data_list.append([[match_id] + list(t100_events.values()) + \\\n",
    "                            list(t100_numerics.values()) + list(t200_events.values()) + \\\n",
    "                            list(t200_numerics.values()) + [gameLength, winning_team]])\n",
    "        \n",
    "    cols =  [ 'match_id' ] + \\\n",
    "            [ 't100_events_' + key for key in t100_events.keys()] + \\\n",
    "            [ 't100_numerics_' + key for key in t100_numerics.keys()] + \\\n",
    "            [ 't200_events_' + key for key in t200_events.keys()] + \\\n",
    "            [ 't200_numerics_' + key for key in t200_numerics.keys()] + \\\n",
    "            [ 'GameLength', 'winning_team' ]\n",
    "    \n",
    "    dataArray = np.array(data_list).reshape(-1,33)\n",
    "     # save as csv\n",
    "    df = pd.DataFrame(dataArray, columns=cols)\n",
    "    df.to_csv(f'./data/data_{data_length}min.csv', index=False)\n"
   ]
  },
  {
   "cell_type": "code",
   "execution_count": null,
   "metadata": {
    "vscode": {
     "languageId": "plaintext"
    }
   },
   "outputs": [],
   "source": []
  }
 ],
 "metadata": {
  "language_info": {
   "name": "python"
  }
 },
 "nbformat": 4,
 "nbformat_minor": 2
}
