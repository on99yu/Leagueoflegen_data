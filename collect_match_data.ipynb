{
 "cells": [
  {
   "cell_type": "code",
   "execution_count": 1,
   "metadata": {},
   "outputs": [],
   "source": [
    "from riot_api_utils import api_utils\n",
    "import config\n",
    "import json"
   ]
  },
  {
   "cell_type": "code",
   "execution_count": 2,
   "metadata": {},
   "outputs": [],
   "source": [
    "api_key = config.API_KEY\n",
    "riot =  api_utils(api_key)"
   ]
  },
  {
   "cell_type": "code",
   "execution_count": 3,
   "metadata": {},
   "outputs": [],
   "source": [
    "count = 5\n",
    "summoner_id_list = riot.get_challenger_list()\n",
    "# for summoner_id in summoner_id_list:\n",
    "#     print(summoner_id)\n",
    "id = summoner_id_list[1]['summonerId']\n",
    "puuid = riot.get_puuid(id)\n",
    "# 특정 소환사의 매치리스트 \n",
    "match_list = riot.get_match_list(puuid,count)\n",
    "match_id = match_list[1]\n",
    "match_info_data = riot.get_match_info(match_id)\n",
    "matchtimeline_data = riot.get_match_timeline(match_id)"
   ]
  },
  {
   "cell_type": "code",
   "execution_count": 4,
   "metadata": {},
   "outputs": [
    {
     "name": "stdout",
     "output_type": "stream",
     "text": [
      "리스트 길이:  300\n",
      "summoner_id :  RufAMnpy88EJA4CdSW2E6vxcHzne_A2HTns9PApP_Qh20FTGOspz-uPQJw \n",
      "summoner_puuid :  IpmILPPYEKLSeUf6sPCxZetUMXxyXs8EqcLrQXqb0kIuyKHQqMKweNRC_OLrTtTeCjOV7_6jsT2pBg\n",
      "매치 ID :  KR_7352825717\n"
     ]
    }
   ],
   "source": [
    "print(\"리스트 길이: \",len(summoner_id_list))\n",
    "print(\"summoner_id : \",id,\"\\nsummoner_puuid : \",puuid)\n",
    "print('매치 ID : ', match_id)\n",
    "with open(f'lol_json_data/{match_id}_timeline.json','w') as json_file:\n",
    "    json.dump(matchtimeline_data, json_file, indent=4, ensure_ascii=False)\n",
    "with open(f'lol_json_data/{match_id}_info.json','w') as json_file:\n",
    "    json.dump(match_info_data,json_file,indent=4,ensure_ascii=False)"
   ]
  },
  {
   "cell_type": "code",
   "execution_count": null,
   "metadata": {},
   "outputs": [],
   "source": []
  }
 ],
 "metadata": {
  "kernelspec": {
   "display_name": "base",
   "language": "python",
   "name": "python3"
  },
  "language_info": {
   "codemirror_mode": {
    "name": "ipython",
    "version": 3
   },
   "file_extension": ".py",
   "mimetype": "text/x-python",
   "name": "python",
   "nbconvert_exporter": "python",
   "pygments_lexer": "ipython3",
   "version": "3.12.4"
  }
 },
 "nbformat": 4,
 "nbformat_minor": 2
}
